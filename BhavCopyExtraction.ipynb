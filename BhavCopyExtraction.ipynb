{
  "nbformat": 4,
  "nbformat_minor": 0,
  "metadata": {
    "colab": {
      "name": "BhavCopyExtraction.ipynb",
      "provenance": [],
      "collapsed_sections": [],
      "authorship_tag": "ABX9TyO0ehoEBonA9whag8nLMLXW",
      "include_colab_link": true
    },
    "kernelspec": {
      "name": "python3",
      "display_name": "Python 3"
    }
  },
  "cells": [
    {
      "cell_type": "markdown",
      "metadata": {
        "id": "view-in-github",
        "colab_type": "text"
      },
      "source": [
        "<a href=\"https://colab.research.google.com/github/ravisankargithub/Survival-Analysis-Intuition-Implementation-in-Python/blob/master/BhavCopyExtraction.ipynb\" target=\"_parent\"><img src=\"https://colab.research.google.com/assets/colab-badge.svg\" alt=\"Open In Colab\"/></a>"
      ]
    },
    {
      "cell_type": "code",
      "metadata": {
        "id": "eEcuIjQTBLI-",
        "colab_type": "code",
        "colab": {
          "base_uri": "https://localhost:8080/",
          "height": 401
        },
        "outputId": "b3cbf516-3332-437d-f3cd-5df9440ddbde"
      },
      "source": [
        "# -*- coding: utf-8 -*-\n",
        "\"\"\"\n",
        "Created on Tue Sep 15 09:48:11 2020\n",
        "\n",
        "@author: Ravi\n",
        "\n",
        "## Code for extracting bhavcopy of NSE data for last 6 months\n",
        "\n",
        "\"\"\"\n",
        "\n",
        "#import logging\n",
        "#logging.basicConfig(level=logging.DEBUG)\n",
        "!pip install pynse\n",
        "from pynse import *\n",
        "from datetime import date\n",
        "from datetime import datetime\n",
        "from datetime import timedelta\n",
        "from google.colab import drive"
      ],
      "execution_count": 1,
      "outputs": [
        {
          "output_type": "stream",
          "text": [
            "Collecting pynse\n",
            "\u001b[?25l  Downloading https://files.pythonhosted.org/packages/89/6b/09efe72d6ef8349fa77d74f0e6ddf5946f8766b05bbde9b366713f544751/pynse-0.1.3-py3-none-any.whl (51kB)\n",
            "\r\u001b[K     |██████▍                         | 10kB 17.6MB/s eta 0:00:01\r\u001b[K     |████████████▊                   | 20kB 1.8MB/s eta 0:00:01\r\u001b[K     |███████████████████             | 30kB 2.7MB/s eta 0:00:01\r\u001b[K     |█████████████████████████▍      | 40kB 3.1MB/s eta 0:00:01\r\u001b[K     |███████████████████████████████▊| 51kB 2.3MB/s eta 0:00:01\r\u001b[K     |████████████████████████████████| 61kB 2.0MB/s \n",
            "\u001b[?25hCollecting fake-headers\n",
            "  Downloading https://files.pythonhosted.org/packages/35/1c/cfdc7cab0058e43a9b12f5cae6ae4e1318228b3de1604798de8c4b0ea94b/fake_headers-1.0.2-py3-none-any.whl\n",
            "Requirement already satisfied: bs4 in /usr/local/lib/python3.6/dist-packages (from pynse) (0.0.1)\n",
            "Requirement already satisfied: pandas in /usr/local/lib/python3.6/dist-packages (from pynse) (1.0.5)\n",
            "Requirement already satisfied: beautifulsoup4 in /usr/local/lib/python3.6/dist-packages (from pynse) (4.6.3)\n",
            "Requirement already satisfied: requests in /usr/local/lib/python3.6/dist-packages (from pynse) (2.23.0)\n",
            "Requirement already satisfied: html5lib in /usr/local/lib/python3.6/dist-packages (from fake-headers->pynse) (1.0.1)\n",
            "Requirement already satisfied: numpy>=1.13.3 in /usr/local/lib/python3.6/dist-packages (from pandas->pynse) (1.18.5)\n",
            "Requirement already satisfied: pytz>=2017.2 in /usr/local/lib/python3.6/dist-packages (from pandas->pynse) (2018.9)\n",
            "Requirement already satisfied: python-dateutil>=2.6.1 in /usr/local/lib/python3.6/dist-packages (from pandas->pynse) (2.8.1)\n",
            "Requirement already satisfied: urllib3!=1.25.0,!=1.25.1,<1.26,>=1.21.1 in /usr/local/lib/python3.6/dist-packages (from requests->pynse) (1.24.3)\n",
            "Requirement already satisfied: certifi>=2017.4.17 in /usr/local/lib/python3.6/dist-packages (from requests->pynse) (2020.6.20)\n",
            "Requirement already satisfied: idna<3,>=2.5 in /usr/local/lib/python3.6/dist-packages (from requests->pynse) (2.10)\n",
            "Requirement already satisfied: chardet<4,>=3.0.2 in /usr/local/lib/python3.6/dist-packages (from requests->pynse) (3.0.4)\n",
            "Requirement already satisfied: six>=1.9 in /usr/local/lib/python3.6/dist-packages (from html5lib->fake-headers->pynse) (1.15.0)\n",
            "Requirement already satisfied: webencodings in /usr/local/lib/python3.6/dist-packages (from html5lib->fake-headers->pynse) (0.5.1)\n",
            "Installing collected packages: fake-headers, pynse\n",
            "Successfully installed fake-headers-1.0.2 pynse-0.1.3\n"
          ],
          "name": "stdout"
        }
      ]
    },
    {
      "cell_type": "code",
      "metadata": {
        "id": "4uAKONk3B7PP",
        "colab_type": "code",
        "colab": {
          "base_uri": "https://localhost:8080/",
          "height": 35
        },
        "outputId": "dfe371bc-93bf-49b5-f2d1-2bfbbc7c2a42"
      },
      "source": [
        "drive.mount('./drive')"
      ],
      "execution_count": 2,
      "outputs": [
        {
          "output_type": "stream",
          "text": [
            "Mounted at ./drive\n"
          ],
          "name": "stdout"
        }
      ]
    },
    {
      "cell_type": "code",
      "metadata": {
        "id": "Ov2-VE4VBMf8",
        "colab_type": "code",
        "colab": {
          "base_uri": "https://localhost:8080/",
          "height": 139
        },
        "outputId": "394204c3-6f79-419a-b3d0-c636c8f41884"
      },
      "source": [
        "\n",
        "\n",
        "start_time = datetime.now()\n",
        "\n",
        "## Properties File:\n",
        "num_of_days = 3  ## Enter the number of stock operating days required to \n",
        "\n",
        "output_path = \"./drive/My Drive/Colab Notebooks/Learning/OutputDir/\"\n",
        "nse = Nse(path=output_path)\n",
        "\n",
        "## Function to retrieve data for last 'n' number of Bhav Copy F&O's data:\n",
        "def GetBhavCopyDataOfNdays(no_of_days):\n",
        "    data = pd.DataFrame()\n",
        "    cntr = 0\n",
        "    for x in range(0,(2*no_of_days)):\n",
        "        date_var = date.today()\n",
        "        date_var = date_var-timedelta(x)\n",
        "        if(cntr==no_of_days):\n",
        "            break\n",
        "        print(date_var)\n",
        "        try:\n",
        "            a = nse.bhavcopy_fno(date_var)\n",
        "            a['SYMBOL'] = a.index\n",
        "            cntr+=1\n",
        "        except:\n",
        "            continue\n",
        "        data = data.append(a)\n",
        "        print(\"data size =\", data.shape)\n",
        "    return data\n",
        "\n",
        "df = GetBhavCopyDataOfNdays(num_of_days)\n",
        "df.to_csv(\"test.csv\")\n",
        "end_time = datetime.now()\n",
        "time_taken = ((end_time-start_time).total_seconds())/60\n",
        "print(\"Time taken for downloading the required files : \", time_taken, \" mins\")\n",
        "    \n",
        "    \n"
      ],
      "execution_count": 8,
      "outputs": [
        {
          "output_type": "stream",
          "text": [
            "2020-09-16\n",
            "data dimensions = (34071, 15)\n",
            "2020-09-15\n",
            "data dimensions = (68086, 15)\n",
            "2020-09-14\n",
            "data dimensions = (101861, 15)\n",
            "Time taken for downloading the required files :  0.34472391666666663  mins\n"
          ],
          "name": "stdout"
        }
      ]
    },
    {
      "cell_type": "code",
      "metadata": {
        "id": "HtCyuB-rBEj9",
        "colab_type": "code",
        "colab": {}
      },
      "source": [
        ""
      ],
      "execution_count": null,
      "outputs": []
    }
  ]
}